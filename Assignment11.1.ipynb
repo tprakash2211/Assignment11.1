{
 "cells": [
  {
   "cell_type": "code",
   "execution_count": 20,
   "metadata": {},
   "outputs": [
    {
     "name": "stdout",
     "output_type": "stream",
     "text": [
      "[7, 2, 0, 3, 4, 2, 5, 0, 3, 4]\n",
      "   X\n",
      "0  7\n",
      "1  2\n",
      "2  0\n",
      "3  3\n",
      "4  4\n",
      "5  2\n",
      "6  5\n",
      "7  0\n",
      "8  3\n",
      "9  4\n",
      "[1, 2, 0, 1, 2, 3, 4, 0, 1, 2]\n",
      "   Y\n",
      "0  1\n",
      "1  2\n",
      "2  0\n",
      "3  1\n",
      "4  2\n",
      "5  3\n",
      "6  4\n",
      "7  0\n",
      "8  1\n",
      "9  2\n"
     ]
    }
   ],
   "source": [
    "# Problem Statement:\n",
    "# Consider a DataFrame df where there is an integer column 'X':\n",
    "# df = pd.DataFrame({'X': [7, 2, 0, 3, 4, 2, 5, 0, 3, 4]})\n",
    "# For each value, count the difference back to the previous zero (or the start of the Series, whichever is closer).\n",
    "# These values should therefore be [1, 2, 0, 1, 2, 3, 4, 0, 1, 2]. Make this a new column 'Y'.\n",
    "\n",
    "#Solution:\n",
    "import pandas as pd\n",
    "# Consider a DataFrame df where there is an integer column 'X':\n",
    "df = pd.DataFrame({'X': [7, 2, 0, 3, 4, 2, 5, 0, 3, 4]})\n",
    "x = [7, 2, 0, 3, 4, 2, 5, 0, 3, 4]\n",
    "print (x)\n",
    "print (df)\n",
    "# Using Pandas:\n",
    "s = pd.Series(x)\n",
    "# These values are converted to [1, 2, 0, 1, 2, 3, 4, 0, 1, 2] below:\n",
    "t = (s.groupby(s.eq(0).cumsum().mask(s.eq(0))).cumcount() + 1).mask(s.eq(0), 0).tolist()\n",
    "# Making these values into a new column 'Y' below:\n",
    "dt = pd.DataFrame({'Y': t})\n",
    "print (t)\n",
    "print (dt)"
   ]
  }
 ],
 "metadata": {
  "kernelspec": {
   "display_name": "Python 3",
   "language": "python",
   "name": "python3"
  },
  "language_info": {
   "codemirror_mode": {
    "name": "ipython",
    "version": 3
   },
   "file_extension": ".py",
   "mimetype": "text/x-python",
   "name": "python",
   "nbconvert_exporter": "python",
   "pygments_lexer": "ipython3",
   "version": "3.6.3"
  }
 },
 "nbformat": 4,
 "nbformat_minor": 2
}
